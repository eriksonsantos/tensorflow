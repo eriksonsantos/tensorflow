{
 "cells": [
  {
   "cell_type": "code",
   "execution_count": 10,
   "id": "bfb728a2",
   "metadata": {},
   "outputs": [],
   "source": [
    "import os\n",
    "os.environ['TF_CPP_MIN_LOG_LEVEL'] = '2'\n",
    "import tensorflow as tf\n",
    "import numpy as np"
   ]
  },
  {
   "cell_type": "code",
   "execution_count": 4,
   "id": "f94cf052",
   "metadata": {},
   "outputs": [
    {
     "data": {
      "text/plain": [
       "<tf.Tensor: shape=(3, 3), dtype=int32, numpy=\n",
       "array([[ 9, 10, 10],\n",
       "       [12, 14, 14],\n",
       "       [15, 18, 18]], dtype=int32)>"
      ]
     },
     "execution_count": 4,
     "metadata": {},
     "output_type": "execute_result"
    }
   ],
   "source": [
    "X = tf.Variable([[1,2,3],[4,5,6]])\n",
    "Y = tf.Variable([[1,2,2],[2,2,2]])\n",
    "\n",
    "tf.tensordot(tf.transpose(X),Y, axes = 1)"
   ]
  },
  {
   "cell_type": "code",
   "execution_count": 5,
   "id": "5ad609a4",
   "metadata": {},
   "outputs": [
    {
     "data": {
      "text/plain": [
       "<tf.Tensor: shape=(3, 3), dtype=float16, numpy=\n",
       "array([[ 9., 10., 10.],\n",
       "       [12., 14., 14.],\n",
       "       [15., 18., 18.]], dtype=float16)>"
      ]
     },
     "execution_count": 5,
     "metadata": {},
     "output_type": "execute_result"
    }
   ],
   "source": [
    "a = tf.transpose(X)@Y\n",
    "a = tf.cast(a, dtype=tf.float16)\n",
    "a"
   ]
  },
  {
   "cell_type": "code",
   "execution_count": 6,
   "id": "aaef094f",
   "metadata": {},
   "outputs": [
    {
     "data": {
      "text/plain": [
       "<tf.Tensor: shape=(3,), dtype=float16, numpy=array([15., 18., 18.], dtype=float16)>"
      ]
     },
     "execution_count": 6,
     "metadata": {},
     "output_type": "execute_result"
    }
   ],
   "source": [
    "a[-1]"
   ]
  },
  {
   "cell_type": "code",
   "execution_count": 8,
   "id": "ba508c1b",
   "metadata": {},
   "outputs": [
    {
     "data": {
      "text/plain": [
       "<tf.Tensor: shape=(2,), dtype=int32, numpy=array([ 7, 10], dtype=int32)>"
      ]
     },
     "execution_count": 8,
     "metadata": {},
     "output_type": "execute_result"
    }
   ],
   "source": [
    "D = tf.constant([-7,-10])\n",
    "\n",
    "tf.abs(D)"
   ]
  },
  {
   "cell_type": "code",
   "execution_count": 16,
   "id": "11196b0f",
   "metadata": {},
   "outputs": [],
   "source": [
    "E = tf.constant(np.random.randint(0,100, size = [50,2]))"
   ]
  },
  {
   "cell_type": "code",
   "execution_count": 17,
   "id": "1c41adb1",
   "metadata": {},
   "outputs": [
    {
     "data": {
      "text/plain": [
       "(2, <tf.Tensor: shape=(), dtype=int32, numpy=100>, TensorShape([50, 2]))"
      ]
     },
     "execution_count": 17,
     "metadata": {},
     "output_type": "execute_result"
    }
   ],
   "source": [
    "E.ndim, tf.size(E), E.shape"
   ]
  },
  {
   "cell_type": "code",
   "execution_count": 18,
   "id": "4f653ac1",
   "metadata": {},
   "outputs": [
    {
     "data": {
      "text/plain": [
       "<tf.Tensor: shape=(), dtype=int64, numpy=0>"
      ]
     },
     "execution_count": 18,
     "metadata": {},
     "output_type": "execute_result"
    }
   ],
   "source": [
    "#Find the minimum\n",
    "\n",
    "tf.reduce_min(E)"
   ]
  },
  {
   "cell_type": "code",
   "execution_count": 19,
   "id": "039d74a7",
   "metadata": {},
   "outputs": [
    {
     "data": {
      "text/plain": [
       "<tf.Tensor: shape=(), dtype=int64, numpy=98>"
      ]
     },
     "execution_count": 19,
     "metadata": {},
     "output_type": "execute_result"
    }
   ],
   "source": [
    "#Find the maximum\n",
    "\n",
    "tf.reduce_max(E)"
   ]
  },
  {
   "cell_type": "code",
   "execution_count": 20,
   "id": "6bbfdc91",
   "metadata": {},
   "outputs": [
    {
     "data": {
      "text/plain": [
       "<tf.Tensor: shape=(), dtype=int64, numpy=52>"
      ]
     },
     "execution_count": 20,
     "metadata": {},
     "output_type": "execute_result"
    }
   ],
   "source": [
    "tf.reduce_mean(E)"
   ]
  },
  {
   "cell_type": "code",
   "execution_count": 21,
   "id": "51466fee",
   "metadata": {},
   "outputs": [
    {
     "data": {
      "text/plain": [
       "<tf.Tensor: shape=(), dtype=int64, numpy=5282>"
      ]
     },
     "execution_count": 21,
     "metadata": {},
     "output_type": "execute_result"
    }
   ],
   "source": [
    "#Find the sum\n",
    "\n",
    "tf.reduce_sum(E)"
   ]
  },
  {
   "cell_type": "code",
   "execution_count": 28,
   "id": "f89243ed",
   "metadata": {},
   "outputs": [
    {
     "data": {
      "text/plain": [
       "<tf.Tensor: shape=(2,), dtype=int64, numpy=array([899, 944])>"
      ]
     },
     "execution_count": 28,
     "metadata": {},
     "output_type": "execute_result"
    }
   ],
   "source": [
    "#Get variance of tensor\n",
    "\n",
    "import tensorflow_probability as tfp\n",
    "\n",
    "tfp.stats.variance(E)"
   ]
  },
  {
   "cell_type": "code",
   "execution_count": 31,
   "id": "ddb12c87",
   "metadata": {},
   "outputs": [
    {
     "data": {
      "text/plain": [
       "<tf.Tensor: shape=(), dtype=float32, numpy=30.706474>"
      ]
     },
     "execution_count": 31,
     "metadata": {},
     "output_type": "execute_result"
    }
   ],
   "source": [
    "#Find the standard variantion\n",
    "\n",
    "tf.math.reduce_std(tf.cast(E, dtype=tf.float32))"
   ]
  },
  {
   "cell_type": "code",
   "execution_count": 43,
   "id": "fb593563",
   "metadata": {},
   "outputs": [
    {
     "data": {
      "text/plain": [
       "<tf.Tensor: shape=(50,), dtype=float32, numpy=\n",
       "array([0.78914285, 0.47340286, 0.39979064, 0.730348  , 0.65567374,\n",
       "       0.95290804, 0.1569767 , 0.876413  , 0.42520928, 0.6074914 ,\n",
       "       0.5420697 , 0.8619175 , 0.6087326 , 0.25354815, 0.02741039,\n",
       "       0.807798  , 0.4440137 , 0.9375683 , 0.20025587, 0.9634783 ,\n",
       "       0.8950304 , 0.56499386, 0.2593336 , 0.7975584 , 0.4932909 ,\n",
       "       0.92441773, 0.26945102, 0.177073  , 0.35694516, 0.54103565,\n",
       "       0.231601  , 0.71623254, 0.07930815, 0.59971976, 0.42030382,\n",
       "       0.9922309 , 0.6451732 , 0.4512868 , 0.0813998 , 0.8110639 ,\n",
       "       0.9847126 , 0.32717872, 0.94470954, 0.0367533 , 0.4858843 ,\n",
       "       0.6560893 , 0.15126693, 0.7843076 , 0.50933826, 0.3634901 ],\n",
       "      dtype=float32)>"
      ]
     },
     "execution_count": 43,
     "metadata": {},
     "output_type": "execute_result"
    }
   ],
   "source": [
    "#Find the maximum and minimum position\n",
    "tf.random.set_seed(20)\n",
    "F = tf.random.uniform(shape=[50])\n",
    "F"
   ]
  },
  {
   "cell_type": "code",
   "execution_count": 45,
   "id": "0db9a64b",
   "metadata": {},
   "outputs": [
    {
     "data": {
      "text/plain": [
       "(<tf.Tensor: shape=(), dtype=float32, numpy=0.9922309>,\n",
       " <tf.Tensor: shape=(), dtype=int64, numpy=35>)"
      ]
     },
     "execution_count": 45,
     "metadata": {},
     "output_type": "execute_result"
    }
   ],
   "source": [
    "tf.reduce_max(F), tf.argmax(F)"
   ]
  },
  {
   "cell_type": "code",
   "execution_count": 46,
   "id": "f1058a63",
   "metadata": {},
   "outputs": [
    {
     "data": {
      "text/plain": [
       "<tf.Tensor: shape=(), dtype=float32, numpy=0.9922309>"
      ]
     },
     "execution_count": 46,
     "metadata": {},
     "output_type": "execute_result"
    }
   ],
   "source": [
    "F[tf.argmax(F)]"
   ]
  },
  {
   "cell_type": "code",
   "execution_count": 49,
   "id": "e3a6a4e4",
   "metadata": {},
   "outputs": [
    {
     "data": {
      "text/plain": [
       "<tf.Tensor: shape=(), dtype=bool, numpy=True>"
      ]
     },
     "execution_count": 49,
     "metadata": {},
     "output_type": "execute_result"
    }
   ],
   "source": [
    "F[tf.argmin(F)] == tf.reduce_min(F)"
   ]
  },
  {
   "cell_type": "code",
   "execution_count": 52,
   "id": "f13fae52",
   "metadata": {},
   "outputs": [
    {
     "data": {
      "text/plain": [
       "<tf.Tensor: shape=(1, 1, 1, 1, 50), dtype=float32, numpy=\n",
       "array([[[[[0.6645621 , 0.44100678, 0.3528825 , 0.46448255, 0.03366041,\n",
       "           0.68467236, 0.74011743, 0.8724445 , 0.22632635, 0.22319686,\n",
       "           0.3103881 , 0.7223358 , 0.13318717, 0.5480639 , 0.5746088 ,\n",
       "           0.8996835 , 0.00946367, 0.5212307 , 0.6345445 , 0.1993283 ,\n",
       "           0.72942245, 0.54583454, 0.10756552, 0.6767061 , 0.6602763 ,\n",
       "           0.33695042, 0.60141766, 0.21062577, 0.8527372 , 0.44062173,\n",
       "           0.9485276 , 0.23752594, 0.81179297, 0.5263394 , 0.494308  ,\n",
       "           0.21612847, 0.8457197 , 0.8718841 , 0.3083862 , 0.6868038 ,\n",
       "           0.23764038, 0.7817228 , 0.9671384 , 0.06870162, 0.79873943,\n",
       "           0.66028714, 0.5871513 , 0.16461694, 0.7381023 , 0.32054043]]]]],\n",
       "      dtype=float32)>"
      ]
     },
     "execution_count": 52,
     "metadata": {},
     "output_type": "execute_result"
    }
   ],
   "source": [
    "tf.random.set_seed(42)\n",
    "\n",
    "tf.constant(tf.random.uniform(shape=[50]),shape=(1,1,1,1,50))"
   ]
  },
  {
   "cell_type": "code",
   "execution_count": 54,
   "id": "68fdef8b",
   "metadata": {},
   "outputs": [
    {
     "data": {
      "text/plain": [
       "<tf.Tensor: shape=(4, 4), dtype=float32, numpy=\n",
       "array([[1., 0., 0., 0.],\n",
       "       [0., 1., 0., 0.],\n",
       "       [0., 0., 1., 0.],\n",
       "       [0., 0., 0., 1.]], dtype=float32)>"
      ]
     },
     "execution_count": 54,
     "metadata": {},
     "output_type": "execute_result"
    }
   ],
   "source": [
    "some_list = [0,1,2,3]\n",
    "\n",
    "#Encode our list of indices\n",
    "tf.one_hot(some_list,4)"
   ]
  },
  {
   "cell_type": "code",
   "execution_count": 55,
   "id": "f1fdc2f1",
   "metadata": {},
   "outputs": [
    {
     "data": {
      "text/plain": [
       "<tf.Tensor: shape=(4, 4), dtype=string, numpy=\n",
       "array([[b'yo estoy aprendiendo python', b'tu tambien pode aprender',\n",
       "        b'tu tambien pode aprender', b'tu tambien pode aprender'],\n",
       "       [b'tu tambien pode aprender', b'yo estoy aprendiendo python',\n",
       "        b'tu tambien pode aprender', b'tu tambien pode aprender'],\n",
       "       [b'tu tambien pode aprender', b'tu tambien pode aprender',\n",
       "        b'yo estoy aprendiendo python', b'tu tambien pode aprender'],\n",
       "       [b'tu tambien pode aprender', b'tu tambien pode aprender',\n",
       "        b'tu tambien pode aprender', b'yo estoy aprendiendo python']],\n",
       "      dtype=object)>"
      ]
     },
     "execution_count": 55,
     "metadata": {},
     "output_type": "execute_result"
    }
   ],
   "source": [
    "#Specify custom values for encoding\n",
    "\n",
    "tf.one_hot(some_list,4,on_value=\"yo estoy aprendiendo python\", off_value=\"tu tambien pode aprender\")"
   ]
  },
  {
   "cell_type": "code",
   "execution_count": 56,
   "id": "a4472276",
   "metadata": {},
   "outputs": [
    {
     "data": {
      "text/plain": [
       "<tf.Tensor: shape=(9,), dtype=int32, numpy=array([1, 2, 3, 4, 5, 6, 7, 8, 9], dtype=int32)>"
      ]
     },
     "execution_count": 56,
     "metadata": {},
     "output_type": "execute_result"
    }
   ],
   "source": [
    "H = tf.range(1,10)\n",
    "H"
   ]
  },
  {
   "cell_type": "code",
   "execution_count": 57,
   "id": "7362a871",
   "metadata": {},
   "outputs": [
    {
     "data": {
      "text/plain": [
       "<tf.Tensor: shape=(9,), dtype=int32, numpy=array([ 1,  4,  9, 16, 25, 36, 49, 64, 81], dtype=int32)>"
      ]
     },
     "execution_count": 57,
     "metadata": {},
     "output_type": "execute_result"
    }
   ],
   "source": [
    "tf.square(H)"
   ]
  },
  {
   "cell_type": "code",
   "execution_count": 58,
   "id": "2bc5b6d2",
   "metadata": {},
   "outputs": [
    {
     "data": {
      "text/plain": [
       "<tf.Tensor: shape=(9,), dtype=bfloat16, numpy=\n",
       "array([1, 1.41406, 1.73438, 2, 2.23438, 2.45312, 2.64062, 2.82812, 3],\n",
       "      dtype=bfloat16)>"
      ]
     },
     "execution_count": 58,
     "metadata": {},
     "output_type": "execute_result"
    }
   ],
   "source": [
    "tf.sqrt(tf.cast(H, dtype=tf.bfloat16))"
   ]
  },
  {
   "cell_type": "code",
   "execution_count": 62,
   "id": "e71a7161",
   "metadata": {},
   "outputs": [
    {
     "data": {
      "text/plain": [
       "<tf.Tensor: shape=(9,), dtype=float32, numpy=\n",
       "array([0.       , 0.6931472, 1.0986123, 1.3862944, 1.609438 , 1.7917595,\n",
       "       1.9459102, 2.0794415, 2.1972246], dtype=float32)>"
      ]
     },
     "execution_count": 62,
     "metadata": {},
     "output_type": "execute_result"
    }
   ],
   "source": [
    "tf.math.log(tf.cast(H,dtype=tf.float32))"
   ]
  },
  {
   "cell_type": "code",
   "execution_count": 64,
   "id": "48545d65",
   "metadata": {},
   "outputs": [
    {
     "data": {
      "text/plain": [
       "(array([ 3,  7, 10]), numpy.ndarray)"
      ]
     },
     "execution_count": 64,
     "metadata": {},
     "output_type": "execute_result"
    }
   ],
   "source": [
    "#Create tensor directly from numpy array\n",
    "\n",
    "\n",
    "J = tf.constant(np.array([3,7,10]))\n",
    "\n",
    "np.array(J),type(np.array(J))"
   ]
  },
  {
   "cell_type": "code",
   "execution_count": 66,
   "id": "33b3cdac",
   "metadata": {},
   "outputs": [
    {
     "data": {
      "text/plain": [
       "(array([ 3,  7, 10]), numpy.ndarray)"
      ]
     },
     "execution_count": 66,
     "metadata": {},
     "output_type": "execute_result"
    }
   ],
   "source": [
    "J.numpy(), type(J.numpy())"
   ]
  },
  {
   "cell_type": "code",
   "execution_count": 68,
   "id": "8bfc15e4",
   "metadata": {},
   "outputs": [
    {
     "data": {
      "text/plain": [
       "(tf.int64, tf.int32)"
      ]
     },
     "execution_count": 68,
     "metadata": {},
     "output_type": "execute_result"
    }
   ],
   "source": [
    "numpy_J = tf.constant(np.array([3, 7, 10]))\n",
    "tensor_J = tf.constant([3, 7, 10])\n",
    "\n",
    "numpy_J.dtype, tensor_J.dtype"
   ]
  },
  {
   "cell_type": "code",
   "execution_count": 69,
   "id": "81ea4e97",
   "metadata": {},
   "outputs": [
    {
     "data": {
      "text/plain": [
       "[PhysicalDevice(name='/physical_device:CPU:0', device_type='CPU')]"
      ]
     },
     "execution_count": 69,
     "metadata": {},
     "output_type": "execute_result"
    }
   ],
   "source": [
    "tf.config.list_physical_devices()"
   ]
  },
  {
   "cell_type": "code",
   "execution_count": 71,
   "id": "1d98500b",
   "metadata": {},
   "outputs": [
    {
     "data": {
      "text/plain": [
       "<tf.Tensor: shape=(3,), dtype=int64, numpy=array([ 3,  7, 10])>"
      ]
     },
     "execution_count": 71,
     "metadata": {},
     "output_type": "execute_result"
    }
   ],
   "source": [
    "J"
   ]
  },
  {
   "cell_type": "code",
   "execution_count": 90,
   "id": "9cd0ac90",
   "metadata": {},
   "outputs": [
    {
     "data": {
      "text/plain": [
       "<tf.Tensor: shape=(3,), dtype=int64, numpy=array([10,  7,  3])>"
      ]
     },
     "execution_count": 90,
     "metadata": {},
     "output_type": "execute_result"
    }
   ],
   "source": [
    "tf.random.shuffle(J,seed=43)"
   ]
  },
  {
   "cell_type": "code",
   "execution_count": 94,
   "id": "31bdd4e0",
   "metadata": {},
   "outputs": [
    {
     "data": {
      "text/plain": [
       "<tf.Variable 'Variable:0' shape=(3, 1) dtype=int64, numpy=\n",
       "array([[ 3],\n",
       "       [ 7],\n",
       "       [10]])>"
      ]
     },
     "execution_count": 94,
     "metadata": {},
     "output_type": "execute_result"
    }
   ],
   "source": [
    "tf.Variable(J[...,tf.newaxis])"
   ]
  },
  {
   "cell_type": "code",
   "execution_count": 108,
   "id": "735d942c",
   "metadata": {},
   "outputs": [
    {
     "data": {
      "text/plain": [
       "<tf.Tensor: shape=(1, 3), dtype=int64, numpy=array([[ 3,  7, 10]])>"
      ]
     },
     "execution_count": 108,
     "metadata": {},
     "output_type": "execute_result"
    }
   ],
   "source": [
    "tf.expand_dims(J,axis=0)"
   ]
  },
  {
   "cell_type": "code",
   "execution_count": 109,
   "id": "f937bf4c",
   "metadata": {},
   "outputs": [
    {
     "data": {
      "text/plain": [
       "<tf.Tensor: shape=(3,), dtype=int64, numpy=array([ 6, 14, 20])>"
      ]
     },
     "execution_count": 109,
     "metadata": {},
     "output_type": "execute_result"
    }
   ],
   "source": [
    "tf.add(J,J) #Inplace"
   ]
  }
 ],
 "metadata": {
  "kernelspec": {
   "display_name": "Python 3 (ipykernel)",
   "language": "python",
   "name": "python3"
  },
  "language_info": {
   "codemirror_mode": {
    "name": "ipython",
    "version": 3
   },
   "file_extension": ".py",
   "mimetype": "text/x-python",
   "name": "python",
   "nbconvert_exporter": "python",
   "pygments_lexer": "ipython3",
   "version": "3.8.8"
  }
 },
 "nbformat": 4,
 "nbformat_minor": 5
}
